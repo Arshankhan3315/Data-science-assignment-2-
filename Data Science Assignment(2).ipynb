{
 "cells": [
  {
   "cell_type": "markdown",
   "id": "98120d90-1464-4d6c-b0ce-a8a87e9aac6d",
   "metadata": {},
   "source": [
    "Question-1-How do you comment code in Python? What are the different types of comments?"
   ]
  },
  {
   "cell_type": "markdown",
   "id": "4ee82cc7-2da2-4ed3-9054-fdc21c7693a8",
   "metadata": {},
   "source": [
    "Answer-1-In Python, you can add comments to your code to provide explanations, notes, or reminders for yourself and other developers who might read your code. Comments are ignored by the Python interpreter and don't affect the execution of the program. There are two main types of comments in Python: single-line comments and multi-line comments.\n",
    "(1)-Singleline comments-In singal line we used (#)\n",
    "#this is singal line comment\n",
    "(2)-multiline comment-in multiline comment we used this (''' or \"\"\")"
   ]
  },
  {
   "cell_type": "code",
   "execution_count": 1,
   "id": "5e11bce6-e797-469a-ae1b-13b3953338e8",
   "metadata": {},
   "outputs": [],
   "source": [
    "# singal line comment"
   ]
  },
  {
   "cell_type": "code",
   "execution_count": 2,
   "id": "dcfd0c81-c5b6-4802-9a5c-795aa1cbadf8",
   "metadata": {},
   "outputs": [
    {
     "name": "stdout",
     "output_type": "stream",
     "text": [
      "Hello, World!\n"
     ]
    },
    {
     "data": {
      "text/plain": [
       "'\\nThis is another way to create a multi-line comment.\\nIt also spans multiple lines.\\n'"
      ]
     },
     "execution_count": 2,
     "metadata": {},
     "output_type": "execute_result"
    }
   ],
   "source": [
    "'''\n",
    "This is a multiline comment.\n",
    "It contain multiple lines.\n",
    "'''\n",
    "print(\"Hello, World!\")\n",
    "\n",
    "\"\"\"\n",
    "This is another way to create a multi-line comment.\n",
    "It also spans multiple lines.\n",
    "\"\"\"\n"
   ]
  },
  {
   "cell_type": "markdown",
   "id": "a438c7dc-3c1a-4205-88a2-ad4f86587f32",
   "metadata": {},
   "source": [
    "Question-2-What are variables in Python? How do you declare and assign values to variables?"
   ]
  },
  {
   "cell_type": "markdown",
   "id": "18a7388d-0519-4625-a582-259086fa7878",
   "metadata": {},
   "source": [
    "Answer-2-In the varible we store data"
   ]
  },
  {
   "cell_type": "code",
   "execution_count": 4,
   "id": "e88a1787-ac79-4db9-b755-f9f33ed39015",
   "metadata": {},
   "outputs": [],
   "source": [
    "# Variable assignment\n",
    "age = 21\n",
    "name = \"Arshan\"\n",
    "height = 155.5"
   ]
  },
  {
   "cell_type": "markdown",
   "id": "e4335771-e56f-4617-a18a-a94989c0521f",
   "metadata": {},
   "source": [
    "Question-3-How do you convert one data type to another in Python?"
   ]
  },
  {
   "cell_type": "markdown",
   "id": "0f1d33d3-48af-4dc3-8632-56f5e1e21df9",
   "metadata": {},
   "source": [
    "Answer-3-In Python, you can convert one data type to another using type-specific functions or constructors."
   ]
  },
  {
   "cell_type": "code",
   "execution_count": 16,
   "id": "54571e3b-25e5-4397-9639-addc3c9fc4e7",
   "metadata": {},
   "outputs": [
    {
     "name": "stdout",
     "output_type": "stream",
     "text": [
      "3\n"
     ]
    }
   ],
   "source": [
    "#float converting into string\n",
    "f = 3.7\n",
    "i = int(f)\n",
    "print(i) \n"
   ]
  },
  {
   "cell_type": "code",
   "execution_count": 19,
   "id": "16129d19-9239-4cc0-bd38-df2bd8de5cce",
   "metadata": {},
   "outputs": [
    {
     "name": "stdout",
     "output_type": "stream",
     "text": [
      "42\n"
     ]
    }
   ],
   "source": [
    "i2 = 42\n",
    "s = str(i2)\n",
    "print(s)\n"
   ]
  },
  {
   "cell_type": "code",
   "execution_count": 20,
   "id": "e00f2931-70c6-4a12-be1f-6706ceffa049",
   "metadata": {},
   "outputs": [
    {
     "data": {
      "text/plain": [
       "str"
      ]
     },
     "execution_count": 20,
     "metadata": {},
     "output_type": "execute_result"
    }
   ],
   "source": [
    "type(s)\n"
   ]
  },
  {
   "cell_type": "markdown",
   "id": "41ca6edd-0118-4dc7-85b6-9942df9346cc",
   "metadata": {},
   "source": [
    "Question-4-How do you write and execute a Python script from the command line?"
   ]
  },
  {
   "cell_type": "markdown",
   "id": "c5fe2d46-2e3e-4edf-bfce-e1d81bd03235",
   "metadata": {},
   "source": [
    "Answer-4-Write the Python Script:\n",
    "Open a text editor or an integrated development environment (IDE) to\n",
    "write your Python script. Write your code and save the file with a .py extension.\n",
    "For example, you could save the script as myscript\n",
    "\n",
    "Navigate to the Script's Directory:\n",
    "Use the cd command to navigate to the directory where your Python script is located.\n",
    "For example, if your script is located on the desktop, you can use the following command"
   ]
  },
  {
   "cell_type": "code",
   "execution_count": 23,
   "id": "d68cdf6b-5b81-4440-a066-b49368b4a53d",
   "metadata": {},
   "outputs": [
    {
     "name": "stdout",
     "output_type": "stream",
     "text": [
      "[Errno 2] No such file or directory: '/home/jovyan/Desktop'\n",
      "/home/jovyan/work\n"
     ]
    }
   ],
   "source": [
    "cd ~/Desktop"
   ]
  },
  {
   "cell_type": "markdown",
   "id": "ec2f1060-4f7d-486e-9a77-3f083612de1b",
   "metadata": {},
   "source": [
    "Execute the Script:\n",
    "To execute the Python script from the command line,\n",
    "use the python command followed by the script's filename. For example:"
   ]
  },
  {
   "cell_type": "code",
   "execution_count": 25,
   "id": "fcb21173-97c9-46f4-b54b-e09d8164cab5",
   "metadata": {},
   "outputs": [],
   "source": [
    "#python myscript.py"
   ]
  },
  {
   "cell_type": "markdown",
   "id": "75b27d64-8627-464b-92b5-71fbf59dc8c2",
   "metadata": {},
   "source": [
    "View the Output:\n",
    "If your script produces output using the print function, you will see the output in the command prompt or terminal after running the script.\n",
    "\n",
    "Keep in mind that in order to execute a Python script from the command line, you need to have Python installed on your system and added to your system's PATH environment variable. You can check if Python is installed by running the following command:"
   ]
  },
  {
   "cell_type": "code",
   "execution_count": 26,
   "id": "c167a6fd-3c4c-49ea-b811-ca624114c5c6",
   "metadata": {},
   "outputs": [],
   "source": [
    "#python --version"
   ]
  },
  {
   "cell_type": "markdown",
   "id": "2396789d-9c5e-4f30-9f01-3c88db0074c2",
   "metadata": {},
   "source": [
    "If Python is not recognized, you might need to install it or adjust your PATH settings."
   ]
  },
  {
   "cell_type": "markdown",
   "id": "8a06d94a-e7af-4cf8-b1ed-310594950b0e",
   "metadata": {},
   "source": [
    "Question-5-Given a list my_list = [1, 2, 3, 4, 5], write the code to slice the list and obtain the sub-list [2, 3]."
   ]
  },
  {
   "cell_type": "markdown",
   "id": "786244c2-7f4f-45ee-b46c-0573f26537ae",
   "metadata": {},
   "source": [
    "Answer-5-"
   ]
  },
  {
   "cell_type": "code",
   "execution_count": 28,
   "id": "b1a7db4a-87b7-46df-a950-439f0b8746b9",
   "metadata": {},
   "outputs": [
    {
     "name": "stdout",
     "output_type": "stream",
     "text": [
      "[2, 3]\n"
     ]
    }
   ],
   "source": [
    "my_list = [1, 2, 3, 4, 5]\n",
    "sub_list = my_list[1:3]\n",
    "print(sub_list)"
   ]
  },
  {
   "cell_type": "markdown",
   "id": "06e5f1ca-278d-448c-8ca5-6f8965a67c16",
   "metadata": {},
   "source": [
    "Question-6-What is a complex number in mathematics, and how is it represented in Python?"
   ]
  },
  {
   "cell_type": "markdown",
   "id": "54cc2452-f51c-404a-980f-6773b6fe18a8",
   "metadata": {},
   "source": [
    "Answer-6-In mathematics, a complex number is a number that comprises both a real part and an imaginary part.\n",
    "Complex numbers are widely used in various mathematical and engineering fields, such as signal processing, electrical engineering, and quantum mechanics."
   ]
  },
  {
   "cell_type": "code",
   "execution_count": 29,
   "id": "5830d02a-aa8d-4eed-a52b-adc172d16484",
   "metadata": {},
   "outputs": [
    {
     "name": "stdout",
     "output_type": "stream",
     "text": [
      "(2+3j)\n"
     ]
    }
   ],
   "source": [
    "# Using the complex() constructor\n",
    "complex_num = complex(2, 3)\n",
    "print(complex_num)"
   ]
  },
  {
   "cell_type": "code",
   "execution_count": 30,
   "id": "8487dadf-8689-4252-b91d-5370bf0d358e",
   "metadata": {},
   "outputs": [
    {
     "data": {
      "text/plain": [
       "3.0"
      ]
     },
     "execution_count": 30,
     "metadata": {},
     "output_type": "execute_result"
    }
   ],
   "source": [
    "complex_num.imag"
   ]
  },
  {
   "cell_type": "code",
   "execution_count": 31,
   "id": "2eb743f3-7df2-4b6f-ad6d-9c197ff843a6",
   "metadata": {},
   "outputs": [
    {
     "data": {
      "text/plain": [
       "2.0"
      ]
     },
     "execution_count": 31,
     "metadata": {},
     "output_type": "execute_result"
    }
   ],
   "source": [
    "complex_num.real"
   ]
  },
  {
   "cell_type": "markdown",
   "id": "70f04793-010c-4738-9d29-cc702e9fc13b",
   "metadata": {},
   "source": [
    "Question-7- What is the correct way to declare a variable named age and assign the value 25 to it?"
   ]
  },
  {
   "cell_type": "code",
   "execution_count": 32,
   "id": "49a12373-4350-47e4-8395-fce1c9f97b20",
   "metadata": {},
   "outputs": [],
   "source": [
    "#Answer-7-\n",
    "age=21"
   ]
  },
  {
   "cell_type": "markdown",
   "id": "ddcd3d46-9b76-49f9-80d0-fa4754c08085",
   "metadata": {},
   "source": [
    "Question-8-Declare a variable named price and assign the value 9.99 to it. What data type does this variable\n",
    "belong to?"
   ]
  },
  {
   "cell_type": "code",
   "execution_count": 33,
   "id": "ff4adfc5-544a-48da-b175-a077ff012c9a",
   "metadata": {},
   "outputs": [],
   "source": [
    "#Answer-8-\n",
    "price=9.99"
   ]
  },
  {
   "cell_type": "code",
   "execution_count": 34,
   "id": "3347175d-d2b6-4ace-9c9a-066ad2cd7dae",
   "metadata": {},
   "outputs": [
    {
     "data": {
      "text/plain": [
       "float"
      ]
     },
     "execution_count": 34,
     "metadata": {},
     "output_type": "execute_result"
    }
   ],
   "source": [
    "type(price)"
   ]
  },
  {
   "cell_type": "code",
   "execution_count": 35,
   "id": "58a21281-0f35-445c-b1e4-4705245bd8a1",
   "metadata": {},
   "outputs": [],
   "source": [
    "#price type is float"
   ]
  },
  {
   "cell_type": "markdown",
   "id": "d46163e5-c57d-49cb-a359-bc0dcccb9e9e",
   "metadata": {},
   "source": [
    "Question-9-Create a variable named name and assign your full name to it as a string. How would you print the\n",
    "value of this variable?"
   ]
  },
  {
   "cell_type": "markdown",
   "id": "ba4dfaa3-9185-48e7-b53c-40e9dbcd05dc",
   "metadata": {},
   "source": [
    "Answer-9-"
   ]
  },
  {
   "cell_type": "code",
   "execution_count": 37,
   "id": "62d246ca-a130-4b4a-903c-f3a2ede8e11c",
   "metadata": {},
   "outputs": [],
   "source": [
    "Name=\"Arshan Khan\""
   ]
  },
  {
   "cell_type": "code",
   "execution_count": 38,
   "id": "154f6d4a-2985-4b3e-91fa-fad723e9f4b8",
   "metadata": {},
   "outputs": [
    {
     "name": "stdout",
     "output_type": "stream",
     "text": [
      "Arshan Khan\n"
     ]
    }
   ],
   "source": [
    "print(Name)"
   ]
  },
  {
   "cell_type": "markdown",
   "id": "29b6aa00-3661-4efd-9762-f39f50e4e56b",
   "metadata": {},
   "source": [
    "Question-10-Given the string \"Hello, World!\", extract the substring \"World\"."
   ]
  },
  {
   "cell_type": "markdown",
   "id": "235ce707-2f67-4385-8a1e-dcfe51f4e6e2",
   "metadata": {},
   "source": [
    "Answer-10-"
   ]
  },
  {
   "cell_type": "code",
   "execution_count": 41,
   "id": "4a9aa27a-cb8d-44ab-85d1-a623d3fa9978",
   "metadata": {},
   "outputs": [],
   "source": [
    "string = \"Hello World!\""
   ]
  },
  {
   "cell_type": "code",
   "execution_count": 43,
   "id": "4f969d0e-8f27-42ef-8f84-a987bcfd180d",
   "metadata": {},
   "outputs": [
    {
     "data": {
      "text/plain": [
       "'World'"
      ]
     },
     "execution_count": 43,
     "metadata": {},
     "output_type": "execute_result"
    }
   ],
   "source": [
    "string[6:11]"
   ]
  },
  {
   "cell_type": "markdown",
   "id": "3187e00c-56a8-47d2-a575-a1088c1ce852",
   "metadata": {},
   "source": [
    "Question-11-Create a variable named \"is_student\" and assign it a boolean value indicating whether you are\n",
    "currently a student or not."
   ]
  },
  {
   "cell_type": "code",
   "execution_count": 44,
   "id": "de2f3d9d-a4e5-475d-a2e9-9ebdfa911027",
   "metadata": {},
   "outputs": [],
   "source": [
    "#Answer-11-\n",
    "is_student=True"
   ]
  },
  {
   "cell_type": "markdown",
   "id": "12820485-571f-4ed3-a4f6-ef8809d4ec70",
   "metadata": {},
   "source": [
    "Completed Assignment"
   ]
  }
 ],
 "metadata": {
  "kernelspec": {
   "display_name": "Python 3 (ipykernel)",
   "language": "python",
   "name": "python3"
  },
  "language_info": {
   "codemirror_mode": {
    "name": "ipython",
    "version": 3
   },
   "file_extension": ".py",
   "mimetype": "text/x-python",
   "name": "python",
   "nbconvert_exporter": "python",
   "pygments_lexer": "ipython3",
   "version": "3.10.8"
  }
 },
 "nbformat": 4,
 "nbformat_minor": 5
}
